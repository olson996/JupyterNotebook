{
 "cells": [
  {
   "cell_type": "code",
   "execution_count": 258,
   "metadata": {},
   "outputs": [],
   "source": [
    "import pandas as pd\n",
    "from math import sqrt"
   ]
  },
  {
   "cell_type": "code",
   "execution_count": 259,
   "metadata": {},
   "outputs": [],
   "source": [
    "test_data = pd.read_csv('MNIST_test.csv')\n",
    "train_data = pd.read_csv('MNIST_train.csv')"
   ]
  },
  {
   "cell_type": "code",
   "execution_count": 260,
   "metadata": {},
   "outputs": [],
   "source": [
    "def sortDist(val):\n",
    "    return val[1]"
   ]
  },
  {
   "cell_type": "code",
   "execution_count": 261,
   "metadata": {},
   "outputs": [],
   "source": [
    "def KNN(train_d, k_neighbors, t_tuple):\n",
    "    #nearest k holds nearest samples w/distance\n",
    "    nearest_k = []\n",
    "    \n",
    "    #iterate through each training sample\n",
    "    for row in train_d.itertuples(index=False):\n",
    "        #if nearest found less than k add\n",
    "        if len(nearest_k) < k_neighbors:\n",
    "            #calculate distance\n",
    "            distance = 0\n",
    "            for i in range(len(row[1:])):\n",
    "                distance += ((row[i+1]-t_tuple[i])**2)\n",
    "            distance = sqrt(distance)\n",
    "            nearest_k.append([row, distance])\n",
    "            nearest_k.sort(key=sortDist, reverse=True)\n",
    "            \n",
    "        else:\n",
    "            distance = 0\n",
    "            for i in range(len(row[1:])):\n",
    "                distance += ((row[i+1]-t_tuple[i])**2)\n",
    "            distance = sqrt(distance)\n",
    "           \n",
    "            if distance < nearest_k[0][1]:\n",
    "                nearest_k.pop(0)\n",
    "                nearest_k.append([row, distance])\n",
    "                nearest_k.sort(key=sortDist, reverse=True)\n",
    "        \n",
    "    class_majority = dict()\n",
    "    for i in nearest_k:\n",
    "        if i[0][0] not in class_majority:\n",
    "            class_majority[i[0][0]] = 1*(1/(i[1]**2))\n",
    "        else:\n",
    "            class_majority[i[0][0]] = class_majority[i[0][0]] + (1*(1/(i[1]**2)))\n",
    "    \n",
    "    class_leader = [0, 0]\n",
    "    for key in class_majority:\n",
    "        if class_majority[key] > class_leader[1]:\n",
    "            class_leader = [key, class_majority[key]]     \n",
    "    return(class_leader[0])"
   ]
  },
  {
   "cell_type": "code",
   "execution_count": 262,
   "metadata": {},
   "outputs": [
    {
     "name": "stdout",
     "output_type": "stream",
     "text": [
      "Using 3 neighbors.\n",
      "Sample 0: Calculated Class: 0 Actual Class: 0\n",
      "Sample 1: Calculated Class: 0 Actual Class: 0\n",
      "Sample 2: Calculated Class: 0 Actual Class: 0\n",
      "Sample 3: Calculated Class: 0 Actual Class: 0\n",
      "Sample 4: Calculated Class: 0 Actual Class: 0\n",
      "Sample 5: Calculated Class: 1 Actual Class: 1\n",
      "Sample 6: Calculated Class: 1 Actual Class: 1\n",
      "Sample 7: Calculated Class: 1 Actual Class: 1\n",
      "Sample 8: Calculated Class: 1 Actual Class: 1\n",
      "Sample 9: Calculated Class: 1 Actual Class: 1\n",
      "Sample 10: Calculated Class: 8 Actual Class: 2\n",
      "Sample 11: Calculated Class: 2 Actual Class: 2\n",
      "Sample 12: Calculated Class: 2 Actual Class: 2\n",
      "Sample 13: Calculated Class: 6 Actual Class: 2\n",
      "Sample 14: Calculated Class: 2 Actual Class: 2\n",
      "Sample 15: Calculated Class: 7 Actual Class: 3\n",
      "Sample 16: Calculated Class: 3 Actual Class: 3\n",
      "Sample 17: Calculated Class: 3 Actual Class: 3\n",
      "Sample 18: Calculated Class: 3 Actual Class: 3\n",
      "Sample 19: Calculated Class: 3 Actual Class: 3\n",
      "Sample 20: Calculated Class: 4 Actual Class: 4\n",
      "Sample 21: Calculated Class: 4 Actual Class: 4\n",
      "Sample 22: Calculated Class: 4 Actual Class: 4\n",
      "Sample 23: Calculated Class: 4 Actual Class: 4\n",
      "Sample 24: Calculated Class: 9 Actual Class: 4\n",
      "Sample 25: Calculated Class: 5 Actual Class: 5\n",
      "Sample 26: Calculated Class: 6 Actual Class: 5\n",
      "Sample 27: Calculated Class: 5 Actual Class: 5\n",
      "Sample 28: Calculated Class: 5 Actual Class: 5\n",
      "Sample 29: Calculated Class: 5 Actual Class: 5\n",
      "Sample 30: Calculated Class: 6 Actual Class: 6\n",
      "Sample 31: Calculated Class: 6 Actual Class: 6\n",
      "Sample 32: Calculated Class: 6 Actual Class: 6\n",
      "Sample 33: Calculated Class: 6 Actual Class: 6\n",
      "Sample 34: Calculated Class: 6 Actual Class: 6\n",
      "Sample 35: Calculated Class: 7 Actual Class: 7\n",
      "Sample 36: Calculated Class: 7 Actual Class: 7\n",
      "Sample 37: Calculated Class: 7 Actual Class: 7\n",
      "Sample 38: Calculated Class: 7 Actual Class: 7\n",
      "Sample 39: Calculated Class: 7 Actual Class: 7\n",
      "Sample 40: Calculated Class: 8 Actual Class: 8\n",
      "Sample 41: Calculated Class: 8 Actual Class: 8\n",
      "Sample 42: Calculated Class: 8 Actual Class: 8\n",
      "Sample 43: Calculated Class: 3 Actual Class: 8\n",
      "Sample 44: Calculated Class: 8 Actual Class: 8\n",
      "Sample 45: Calculated Class: 9 Actual Class: 9\n",
      "Sample 46: Calculated Class: 7 Actual Class: 9\n",
      "Sample 47: Calculated Class: 9 Actual Class: 9\n",
      "Sample 48: Calculated Class: 9 Actual Class: 9\n",
      "Sample 49: Calculated Class: 9 Actual Class: 9\n",
      "Total Observations: 50\n",
      "Accuracy: 86.0%\n"
     ]
    }
   ],
   "source": [
    "count = 0 # Total number of samples\n",
    "K = 3 # Number of neighbors\n",
    "accuracy = 0 # correct predictions\n",
    "\n",
    "print(\"Using {} neighbors.\".format(K))\n",
    "for row in test_data.itertuples(index=False):\n",
    "    knn_class = KNN(train_data, K, row[1:])\n",
    "    print(\"Sample {}: Calculated Class: {} Actual Class: {}\".format(count, knn_class, row[0]))\n",
    "    if(knn_class == row[0]):\n",
    "        accuracy += 1\n",
    "    count += 1\n",
    "\n",
    "print(\"Total Observations: {}\".format(count))\n",
    "accuracy = (accuracy / count)*100\n",
    "print(\"Accuracy: {}%\".format(accuracy))\n",
    "    "
   ]
  },
  {
   "cell_type": "code",
   "execution_count": null,
   "metadata": {},
   "outputs": [],
   "source": []
  }
 ],
 "metadata": {
  "kernelspec": {
   "display_name": "Python 3",
   "language": "python",
   "name": "python3"
  },
  "language_info": {
   "codemirror_mode": {
    "name": "ipython",
    "version": 3
   },
   "file_extension": ".py",
   "mimetype": "text/x-python",
   "name": "python",
   "nbconvert_exporter": "python",
   "pygments_lexer": "ipython3",
   "version": "3.7.1"
  }
 },
 "nbformat": 4,
 "nbformat_minor": 2
}
